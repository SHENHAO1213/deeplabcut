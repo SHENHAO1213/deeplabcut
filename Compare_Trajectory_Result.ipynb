{
 "cells": [
  {
   "cell_type": "code",
   "execution_count": 13,
   "id": "fd70c0bb",
   "metadata": {},
   "outputs": [],
   "source": [
    "import pandas as pd\n",
    "import glob, os\n"
   ]
  },
  {
   "cell_type": "code",
   "execution_count": 14,
   "id": "3c17c430",
   "metadata": {},
   "outputs": [],
   "source": [
    "project_name_rigid = r'\\rigid_030922-Hao_Shen-2022-03-11'\n",
    "project_name_soft = r'\\soft_030922-Hao_Shen-2022-03-12'"
   ]
  },
  {
   "cell_type": "code",
   "execution_count": 15,
   "id": "9a8fcba5",
   "metadata": {},
   "outputs": [
    {
     "data": {
      "text/html": [
       "<div>\n",
       "<style scoped>\n",
       "    .dataframe tbody tr th:only-of-type {\n",
       "        vertical-align: middle;\n",
       "    }\n",
       "\n",
       "    .dataframe tbody tr th {\n",
       "        vertical-align: top;\n",
       "    }\n",
       "\n",
       "    .dataframe thead th {\n",
       "        text-align: right;\n",
       "    }\n",
       "</style>\n",
       "<table border=\"1\" class=\"dataframe\">\n",
       "  <thead>\n",
       "    <tr style=\"text-align: right;\">\n",
       "      <th></th>\n",
       "      <th>station</th>\n",
       "      <th>moving</th>\n",
       "      <th>fps</th>\n",
       "      <th>total_distance</th>\n",
       "      <th>top_speed</th>\n",
       "    </tr>\n",
       "  </thead>\n",
       "  <tbody>\n",
       "    <tr>\n",
       "      <th>Rigid Spinal Cord</th>\n",
       "      <td>8686.0</td>\n",
       "      <td>12147.0</td>\n",
       "      <td>34.722</td>\n",
       "      <td>52.607476</td>\n",
       "      <td>0.488021</td>\n",
       "    </tr>\n",
       "  </tbody>\n",
       "</table>\n",
       "</div>"
      ],
      "text/plain": [
       "                   station   moving     fps  total_distance  top_speed\n",
       "Rigid Spinal Cord   8686.0  12147.0  34.722       52.607476   0.488021"
      ]
     },
     "execution_count": 15,
     "metadata": {},
     "output_type": "execute_result"
    }
   ],
   "source": [
    "csv_path = r\"C:\\Users\\haosh\\Documents\\Lab\\Behavior\\DeepLabCut\" + project_name_rigid+ r\"\\videos\"\n",
    "os.chdir(csv_path)\n",
    "df_rigid = pd.read_csv(glob.glob(\"*results.csv\")[0], header=0, index_col=0)\n",
    "fps = df_rigid['fps'].values[0]\n",
    "df_rigid"
   ]
  },
  {
   "cell_type": "code",
   "execution_count": 16,
   "id": "cbb5e378",
   "metadata": {},
   "outputs": [
    {
     "data": {
      "text/html": [
       "<div>\n",
       "<style scoped>\n",
       "    .dataframe tbody tr th:only-of-type {\n",
       "        vertical-align: middle;\n",
       "    }\n",
       "\n",
       "    .dataframe tbody tr th {\n",
       "        vertical-align: top;\n",
       "    }\n",
       "\n",
       "    .dataframe thead th {\n",
       "        text-align: right;\n",
       "    }\n",
       "</style>\n",
       "<table border=\"1\" class=\"dataframe\">\n",
       "  <thead>\n",
       "    <tr style=\"text-align: right;\">\n",
       "      <th></th>\n",
       "      <th>station</th>\n",
       "      <th>moving</th>\n",
       "      <th>fps</th>\n",
       "      <th>total_distance</th>\n",
       "      <th>top_speed</th>\n",
       "    </tr>\n",
       "  </thead>\n",
       "  <tbody>\n",
       "    <tr>\n",
       "      <th>Soft Spinal Cord</th>\n",
       "      <td>11058.0</td>\n",
       "      <td>9775.0</td>\n",
       "      <td>34.722</td>\n",
       "      <td>38.632463</td>\n",
       "      <td>0.696372</td>\n",
       "    </tr>\n",
       "  </tbody>\n",
       "</table>\n",
       "</div>"
      ],
      "text/plain": [
       "                  station  moving     fps  total_distance  top_speed\n",
       "Soft Spinal Cord  11058.0  9775.0  34.722       38.632463   0.696372"
      ]
     },
     "execution_count": 16,
     "metadata": {},
     "output_type": "execute_result"
    }
   ],
   "source": [
    "csv_path = r\"C:\\Users\\haosh\\Documents\\Lab\\Behavior\\DeepLabCut\" + project_name_soft+ r\"\\videos\"\n",
    "os.chdir(csv_path)\n",
    "df_soft = pd.read_csv(glob.glob(\"*results.csv\")[0], header=0, index_col=0)\n",
    "df_soft"
   ]
  },
  {
   "cell_type": "code",
   "execution_count": 17,
   "id": "262aac1b",
   "metadata": {},
   "outputs": [
    {
     "data": {
      "text/html": [
       "<div>\n",
       "<style scoped>\n",
       "    .dataframe tbody tr th:only-of-type {\n",
       "        vertical-align: middle;\n",
       "    }\n",
       "\n",
       "    .dataframe tbody tr th {\n",
       "        vertical-align: top;\n",
       "    }\n",
       "\n",
       "    .dataframe thead th {\n",
       "        text-align: right;\n",
       "    }\n",
       "</style>\n",
       "<table border=\"1\" class=\"dataframe\">\n",
       "  <thead>\n",
       "    <tr style=\"text-align: right;\">\n",
       "      <th></th>\n",
       "      <th>station</th>\n",
       "      <th>moving</th>\n",
       "    </tr>\n",
       "  </thead>\n",
       "  <tbody>\n",
       "    <tr>\n",
       "      <th>Rigid Spinal Cord</th>\n",
       "      <td>250.158401</td>\n",
       "      <td>349.835839</td>\n",
       "    </tr>\n",
       "    <tr>\n",
       "      <th>Soft Spinal Cord</th>\n",
       "      <td>318.472438</td>\n",
       "      <td>281.521802</td>\n",
       "    </tr>\n",
       "  </tbody>\n",
       "</table>\n",
       "</div>"
      ],
      "text/plain": [
       "                      station      moving\n",
       "Rigid Spinal Cord  250.158401  349.835839\n",
       "Soft Spinal Cord   318.472438  281.521802"
      ]
     },
     "execution_count": 17,
     "metadata": {},
     "output_type": "execute_result"
    }
   ],
   "source": [
    "df_concat = pd.concat([df_rigid, df_soft])\n",
    "df_time = df_concat.iloc[:,:2] / fps\n",
    "df_time"
   ]
  },
  {
   "cell_type": "code",
   "execution_count": 18,
   "id": "363145ba",
   "metadata": {},
   "outputs": [
    {
     "data": {
      "text/plain": [
       "Text(0, 0.5, 'Time Duration (s)')"
      ]
     },
     "execution_count": 18,
     "metadata": {},
     "output_type": "execute_result"
    },
    {
     "data": {
      "image/png": "[encoded data removed]",
      "text/plain": [
       "<Figure size 576x360 with 1 Axes>"
      ]
     },
     "metadata": {
      "needs_background": "light"
     },
     "output_type": "display_data"
    }
   ],
   "source": [
    "# fig, ax = plt.figure(figsize=(8,5))\n",
    "ax = df_time.plot.bar(rot=0, figsize=(8, 5))\n",
    "\n",
    "for container in ax.containers:\n",
    "    ax.bar_label(container)\n",
    "    \n",
    "ax.set_ylim([0, 400])\n",
    "ax.set_title('Activity Breakdown for Rats with Rigid and Soft Electrode')\n",
    "ax.set_xlabel('Electrode Type')\n",
    "ax.set_ylabel('Time Duration (s)')"
   ]
  },
  {
   "cell_type": "code",
   "execution_count": 11,
   "id": "489bfcc1",
   "metadata": {},
   "outputs": [
    {
     "data": {
      "text/plain": [
       "(0.0, 60.0)"
      ]
     },
     "execution_count": 11,
     "metadata": {},
     "output_type": "execute_result"
    },
    {
     "data": {
      "image/png": "[encoded data removed]",
      "text/plain": [
       "<Figure size 576x360 with 1 Axes>"
      ]
     },
     "metadata": {
      "needs_background": "light"
     },
     "output_type": "display_data"
    }
   ],
   "source": [
    "ax = df_concat[['total_distance']].T.plot.bar(rot=0, figsize=(8, 5))\n",
    "ax.axes.xaxis.set_visible(False)\n",
    "ax.set_ylabel('Total Distance Traveled (m)')\n",
    "for container in ax.containers:\n",
    "    ax.bar_label(container)\n",
    "    \n",
    "ax.set_title('Total Distance Traveld by Rats with Rigid and Soft Electrode')\n",
    "ax.set_ylim([0, 60])"
   ]
  },
  {
   "cell_type": "code",
   "execution_count": 23,
   "id": "af538cff",
   "metadata": {},
   "outputs": [
    {
     "data": {
      "text/plain": [
       "(0.0, 1.0)"
      ]
     },
     "execution_count": 23,
     "metadata": {},
     "output_type": "execute_result"
    },
    {
     "data": {
      "image/png": "[encoded data removed]",
      "text/plain": [
       "<Figure size 576x360 with 1 Axes>"
      ]
     },
     "metadata": {
      "needs_background": "light"
     },
     "output_type": "display_data"
    }
   ],
   "source": [
    "ax = df_concat[['top_speed']].T.plot.bar(rot=0, figsize=(8, 5))\n",
    "ax.axes.xaxis.set_visible(False)\n",
    "ax.set_ylabel('Top Speed (m/s)')\n",
    "for container in ax.containers:\n",
    "    ax.bar_label(container)\n",
    "    \n",
    "ax.set_title('Top Speed by Rats with Rigid and Soft Electrode')\n",
    "ax.set_ylim([0, 1])"
   ]
  },
  {
   "cell_type": "code",
   "execution_count": null,
   "id": "eb367654",
   "metadata": {},
   "outputs": [],
   "source": []
  }
 ],
 "metadata": {
  "kernelspec": {
   "display_name": "Python 3 (ipykernel)",
   "language": "python",
   "name": "python3"
  },
  "language_info": {
   "codemirror_mode": {
    "name": "ipython",
    "version": 3
   },
   "file_extension": ".py",
   "mimetype": "text/x-python",
   "name": "python",
   "nbconvert_exporter": "python",
   "pygments_lexer": "ipython3",
   "version": "3.10.2"
  }
 },
 "nbformat": 4,
 "nbformat_minor": 5
}
